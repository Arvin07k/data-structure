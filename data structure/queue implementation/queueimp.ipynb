{
 "cells": [
  {
   "cell_type": "code",
   "execution_count": 1,
   "id": "006cd2f1-70c7-4814-886f-a3179c0d3f7b",
   "metadata": {},
   "outputs": [],
   "source": [
    "from queue import Queue\n"
   ]
  },
  {
   "cell_type": "code",
   "execution_count": 5,
   "id": "268e6912-565f-4cd8-ac57-80d7ec0e9fc2",
   "metadata": {},
   "outputs": [],
   "source": [
    "class queue():\n",
    "    def __init__(self):\n",
    "        self.elements=[]\n",
    "    def isempty(self):\n",
    "        return self.elements == []\n",
    "    def enqueue(self,element):\n",
    "        self.elements.insert(0,element)\n",
    "    def dequeue(self):\n",
    "        return self.elements.pop()\n",
    "    def size(self):\n",
    "        return len(self.elements)\n",
    "    "
   ]
  },
  {
   "cell_type": "code",
   "execution_count": 6,
   "id": "f199d950-4db3-46f9-b939-09873d5296a2",
   "metadata": {},
   "outputs": [],
   "source": [
    "myqueue=queue()"
   ]
  },
  {
   "cell_type": "code",
   "execution_count": 7,
   "id": "837cc0d3-6449-4146-bf5b-dbb292bd0b8e",
   "metadata": {},
   "outputs": [],
   "source": [
    "myqueue.enqueue(10)"
   ]
  },
  {
   "cell_type": "code",
   "execution_count": 8,
   "id": "582ce97a-3908-4f8c-b821-81565018bbf4",
   "metadata": {},
   "outputs": [
    {
     "data": {
      "text/plain": [
       "10"
      ]
     },
     "execution_count": 8,
     "metadata": {},
     "output_type": "execute_result"
    }
   ],
   "source": [
    "myqueue.dequeue()"
   ]
  },
  {
   "cell_type": "code",
   "execution_count": 9,
   "id": "14a9cef1-9713-4baa-9900-bfaffddf84b5",
   "metadata": {},
   "outputs": [
    {
     "data": {
      "text/plain": [
       "True"
      ]
     },
     "execution_count": 9,
     "metadata": {},
     "output_type": "execute_result"
    }
   ],
   "source": [
    "myqueue.isempty()"
   ]
  },
  {
   "cell_type": "code",
   "execution_count": 10,
   "id": "5feb06b6-fdc7-4ccd-94a2-13a1b1ead2b2",
   "metadata": {},
   "outputs": [],
   "source": [
    "myqueue.enqueue(10)\n",
    "myqueue.enqueue(20)\n",
    "myqueue.enqueue(30)"
   ]
  },
  {
   "cell_type": "code",
   "execution_count": 11,
   "id": "48482309-2025-42a0-8fba-60ce6c760a3c",
   "metadata": {},
   "outputs": [
    {
     "data": {
      "text/plain": [
       "10"
      ]
     },
     "execution_count": 11,
     "metadata": {},
     "output_type": "execute_result"
    }
   ],
   "source": [
    "myqueue.dequeue()"
   ]
  },
  {
   "cell_type": "code",
   "execution_count": 12,
   "id": "e84b8981-4f84-4cf8-9a62-71432245e678",
   "metadata": {},
   "outputs": [
    {
     "data": {
      "text/plain": [
       "20"
      ]
     },
     "execution_count": 12,
     "metadata": {},
     "output_type": "execute_result"
    }
   ],
   "source": [
    "myqueue.dequeue()\n"
   ]
  },
  {
   "cell_type": "code",
   "execution_count": 13,
   "id": "acc10c8a-8040-4b06-8446-f88b1e9d194f",
   "metadata": {},
   "outputs": [
    {
     "data": {
      "text/plain": [
       "1"
      ]
     },
     "execution_count": 13,
     "metadata": {},
     "output_type": "execute_result"
    }
   ],
   "source": [
    "myqueue.size()"
   ]
  },
  {
   "cell_type": "code",
   "execution_count": null,
   "id": "3c819134-240a-4af9-954e-1e4e8bc8de22",
   "metadata": {},
   "outputs": [],
   "source": []
  }
 ],
 "metadata": {
  "kernelspec": {
   "display_name": "Python 3 (ipykernel)",
   "language": "python",
   "name": "python3"
  },
  "language_info": {
   "codemirror_mode": {
    "name": "ipython",
    "version": 3
   },
   "file_extension": ".py",
   "mimetype": "text/x-python",
   "name": "python",
   "nbconvert_exporter": "python",
   "pygments_lexer": "ipython3",
   "version": "3.13.0"
  }
 },
 "nbformat": 4,
 "nbformat_minor": 5
}
