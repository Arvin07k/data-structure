{
 "cells": [
  {
   "cell_type": "code",
   "execution_count": 5,
   "id": "3059b53a-ca92-479c-aa1d-ae60d5301554",
   "metadata": {},
   "outputs": [],
   "source": [
    "def factorial(value):\n",
    "    if value==0:\n",
    "        return 1\n",
    "    else:\n",
    "        return value * factorial(value-1)\n",
    "        \n",
    "    "
   ]
  },
  {
   "cell_type": "code",
   "execution_count": 6,
   "id": "28c52c90-2273-4dfb-9065-61ca71b472c0",
   "metadata": {},
   "outputs": [
    {
     "data": {
      "text/plain": [
       "120"
      ]
     },
     "execution_count": 6,
     "metadata": {},
     "output_type": "execute_result"
    }
   ],
   "source": [
    "factorial(5)"
   ]
  },
  {
   "cell_type": "code",
   "execution_count": 10,
   "id": "64365ac2-73a1-413a-96fa-cdd1f70c8041",
   "metadata": {},
   "outputs": [],
   "source": [
    "def sum(value):\n",
    "    if value==0:\n",
    "        return 0\n",
    "    else:\n",
    "        return value+sum(value-1)\n"
   ]
  },
  {
   "cell_type": "code",
   "execution_count": 12,
   "id": "0b4780c5-0b61-4489-ae37-5d03da26889b",
   "metadata": {},
   "outputs": [
    {
     "data": {
      "text/plain": [
       "55"
      ]
     },
     "execution_count": 12,
     "metadata": {},
     "output_type": "execute_result"
    }
   ],
   "source": [
    "sum(10)"
   ]
  },
  {
   "cell_type": "code",
   "execution_count": null,
   "id": "29a34147-00c4-470f-9c5c-5ba99f2466c0",
   "metadata": {},
   "outputs": [],
   "source": []
  }
 ],
 "metadata": {
  "kernelspec": {
   "display_name": "Python 3 (ipykernel)",
   "language": "python",
   "name": "python3"
  },
  "language_info": {
   "codemirror_mode": {
    "name": "ipython",
    "version": 3
   },
   "file_extension": ".py",
   "mimetype": "text/x-python",
   "name": "python",
   "nbconvert_exporter": "python",
   "pygments_lexer": "ipython3",
   "version": "3.13.0"
  }
 },
 "nbformat": 4,
 "nbformat_minor": 5
}
