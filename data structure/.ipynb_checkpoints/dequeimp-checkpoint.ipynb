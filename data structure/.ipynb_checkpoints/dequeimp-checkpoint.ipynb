{
 "cells": [
  {
   "cell_type": "code",
   "execution_count": 7,
   "id": "94c9e742-d8dc-4858-bd6b-98228d42d80a",
   "metadata": {},
   "outputs": [],
   "source": [
    "class deque:\n",
    "    def __init__(self):\n",
    "        self.elements=[]\n",
    "    def isEmpty(self):\n",
    "        return self.elements==[]\n",
    "    def addRight(self,elements):\n",
    "        self.elements.append(elements)\n",
    "    def addLeft(self,elements):\n",
    "        self.elements.insert(0,elements)\n",
    "    def removeRight(self):\n",
    "        return self.elements.pop()\n",
    "    def removeLeft(self):\n",
    "        return self.elements.pop(0)\n",
    "    def size(self):\n",
    "        return len(self.elements)\n",
    "    "
   ]
  },
  {
   "cell_type": "code",
   "execution_count": 8,
   "id": "6eae78cb-fa09-4bc1-a673-a7876d5e2188",
   "metadata": {},
   "outputs": [],
   "source": [
    "mydeq=deque()"
   ]
  },
  {
   "cell_type": "code",
   "execution_count": 9,
   "id": "0e9b2f8b-7dcb-4a9f-bd9a-2c0c247e0123",
   "metadata": {},
   "outputs": [
    {
     "data": {
      "text/plain": [
       "True"
      ]
     },
     "execution_count": 9,
     "metadata": {},
     "output_type": "execute_result"
    }
   ],
   "source": [
    "mydeq.isEmpty()"
   ]
  },
  {
   "cell_type": "code",
   "execution_count": 10,
   "id": "a3dd7ba3-5024-4309-8a41-2ab61cd5472f",
   "metadata": {},
   "outputs": [],
   "source": [
    "mydeq.addRight(20)"
   ]
  },
  {
   "cell_type": "code",
   "execution_count": 11,
   "id": "3bcb97ce-acf7-42eb-867b-8ffed0f28518",
   "metadata": {},
   "outputs": [],
   "source": [
    "mydeq.addRight(30)"
   ]
  },
  {
   "cell_type": "code",
   "execution_count": 12,
   "id": "1a62288a-aa24-4330-8d94-34aaace4ac27",
   "metadata": {},
   "outputs": [],
   "source": [
    "mydeq.addLeft(40)"
   ]
  },
  {
   "cell_type": "code",
   "execution_count": 13,
   "id": "fbb6fbd1-4dd9-4f96-82d4-23747e99e5e6",
   "metadata": {},
   "outputs": [],
   "source": [
    "mydeq.addLeft(50)"
   ]
  },
  {
   "cell_type": "code",
   "execution_count": 14,
   "id": "d60e0f73-a4ee-40bb-b539-ce8271f10d6e",
   "metadata": {},
   "outputs": [
    {
     "data": {
      "text/plain": [
       "4"
      ]
     },
     "execution_count": 14,
     "metadata": {},
     "output_type": "execute_result"
    }
   ],
   "source": [
    "mydeq.size()"
   ]
  },
  {
   "cell_type": "code",
   "execution_count": 15,
   "id": "67e359aa-0fe4-4b3d-b127-31a5ded0b75b",
   "metadata": {},
   "outputs": [
    {
     "data": {
      "text/plain": [
       "50"
      ]
     },
     "execution_count": 15,
     "metadata": {},
     "output_type": "execute_result"
    }
   ],
   "source": [
    "mydeq.removeLeft()"
   ]
  },
  {
   "cell_type": "code",
   "execution_count": 17,
   "id": "83988fbc-486d-489f-b890-7f39c4b232ff",
   "metadata": {},
   "outputs": [
    {
     "data": {
      "text/plain": [
       "30"
      ]
     },
     "execution_count": 17,
     "metadata": {},
     "output_type": "execute_result"
    }
   ],
   "source": [
    "mydeq.removeRight()"
   ]
  },
  {
   "cell_type": "code",
   "execution_count": 18,
   "id": "a80f173d-37e8-4085-b401-f60afa6e8a1b",
   "metadata": {},
   "outputs": [
    {
     "data": {
      "text/plain": [
       "20"
      ]
     },
     "execution_count": 18,
     "metadata": {},
     "output_type": "execute_result"
    }
   ],
   "source": [
    "mydeq.removeRight()\n"
   ]
  },
  {
   "cell_type": "code",
   "execution_count": null,
   "id": "584ae3d9-1e05-4bb3-9522-8d4190ee1757",
   "metadata": {},
   "outputs": [],
   "source": []
  }
 ],
 "metadata": {
  "kernelspec": {
   "display_name": "Python 3 (ipykernel)",
   "language": "python",
   "name": "python3"
  },
  "language_info": {
   "codemirror_mode": {
    "name": "ipython",
    "version": 3
   },
   "file_extension": ".py",
   "mimetype": "text/x-python",
   "name": "python",
   "nbconvert_exporter": "python",
   "pygments_lexer": "ipython3",
   "version": "3.13.0"
  }
 },
 "nbformat": 4,
 "nbformat_minor": 5
}
