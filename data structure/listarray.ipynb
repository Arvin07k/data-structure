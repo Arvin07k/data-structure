{
 "cells": [
  {
   "cell_type": "code",
   "execution_count": null,
   "id": "f82d9915-ad01-4a14-a926-e99a1c8db669",
   "metadata": {},
   "outputs": [],
   "source": [
    "# lists,array"
   ]
  },
  {
   "cell_type": "code",
   "execution_count": 26,
   "id": "905fcdf4-e13c-4d7e-b9e5-816688b21fd5",
   "metadata": {},
   "outputs": [],
   "source": [
    "mylist1=[1,2,3,4]"
   ]
  },
  {
   "cell_type": "code",
   "execution_count": 27,
   "id": "db31e9ee-6404-4702-a483-a3a6583c3380",
   "metadata": {},
   "outputs": [
    {
     "data": {
      "text/plain": [
       "list"
      ]
     },
     "execution_count": 27,
     "metadata": {},
     "output_type": "execute_result"
    }
   ],
   "source": [
    "type(mylist1)\n"
   ]
  },
  {
   "cell_type": "code",
   "execution_count": 28,
   "id": "d37ec1c7-40fd-4e78-a4a0-332e556afdde",
   "metadata": {},
   "outputs": [
    {
     "data": {
      "text/plain": [
       "[1, 2, 3, 4, 5]"
      ]
     },
     "execution_count": 28,
     "metadata": {},
     "output_type": "execute_result"
    }
   ],
   "source": [
    "mylist1.append(5)\n",
    "mylist1"
   ]
  },
  {
   "cell_type": "code",
   "execution_count": 4,
   "id": "0a50144a-2dd3-4b3e-a77f-50dd4b3217e2",
   "metadata": {},
   "outputs": [],
   "source": [
    "import array as arr\n",
    "myarr=arr.array(\"i\",[5,2,52,12])\n"
   ]
  },
  {
   "cell_type": "code",
   "execution_count": 8,
   "id": "ee45e618-126a-4e1b-8aba-630e41dca656",
   "metadata": {},
   "outputs": [
    {
     "data": {
      "text/plain": [
       "array('i', [5, 2, 52, 12, 15, 15, 15])"
      ]
     },
     "execution_count": 8,
     "metadata": {},
     "output_type": "execute_result"
    }
   ],
   "source": [
    "myarr.append(15)\n",
    "myarr\n"
   ]
  },
  {
   "cell_type": "code",
   "execution_count": 9,
   "id": "3758fad6-c90d-4d86-9a1e-14866ddc5f28",
   "metadata": {},
   "outputs": [
    {
     "data": {
      "text/plain": [
       "[1, 2, 3, 4]"
      ]
     },
     "execution_count": 9,
     "metadata": {},
     "output_type": "execute_result"
    }
   ],
   "source": [
    "mylist"
   ]
  },
  {
   "cell_type": "code",
   "execution_count": 11,
   "id": "a2d1c897-723a-49fa-a658-2bca1643846f",
   "metadata": {},
   "outputs": [],
   "source": [
    "seclist=[5,6,7]"
   ]
  },
  {
   "cell_type": "code",
   "execution_count": 13,
   "id": "420adc9c-f191-48fe-804b-007fa42aed48",
   "metadata": {},
   "outputs": [
    {
     "data": {
      "text/plain": [
       "[1, 2, 3, 4, 5, 6, 7, 5, 6, 7]"
      ]
     },
     "execution_count": 13,
     "metadata": {},
     "output_type": "execute_result"
    }
   ],
   "source": [
    "mylist.extend(seclist)\n",
    "mylist"
   ]
  },
  {
   "cell_type": "code",
   "execution_count": 14,
   "id": "960786a1-f0bc-4ebe-962e-d034fa327a3d",
   "metadata": {},
   "outputs": [],
   "source": [
    "r=[0]*8"
   ]
  },
  {
   "cell_type": "code",
   "execution_count": 15,
   "id": "7121b728-ac79-4695-94c8-582a89e97ed7",
   "metadata": {},
   "outputs": [
    {
     "data": {
      "text/plain": [
       "[0, 0, 0, 0, 0, 0, 0, 0]"
      ]
     },
     "execution_count": 15,
     "metadata": {},
     "output_type": "execute_result"
    }
   ],
   "source": [
    "r"
   ]
  },
  {
   "cell_type": "code",
   "execution_count": 16,
   "id": "87ede194-93de-431c-a45e-74be93d732c6",
   "metadata": {},
   "outputs": [],
   "source": [
    "r[3]=5"
   ]
  },
  {
   "cell_type": "code",
   "execution_count": 17,
   "id": "bd4935bf-093f-4d25-b285-ef05848eaa90",
   "metadata": {},
   "outputs": [
    {
     "data": {
      "text/plain": [
       "[0, 0, 0, 5, 0, 0, 0, 0]"
      ]
     },
     "execution_count": 17,
     "metadata": {},
     "output_type": "execute_result"
    }
   ],
   "source": [
    "r\n"
   ]
  },
  {
   "cell_type": "code",
   "execution_count": 23,
   "id": "7fdc503f-942a-4634-b3d2-7bfe1dae0f8e",
   "metadata": {},
   "outputs": [
    {
     "name": "stdout",
     "output_type": "stream",
     "text": [
      "length of array= 0 byte of array:56\n",
      "length of array= 1 byte of array:88\n",
      "length of array= 2 byte of array:88\n",
      "length of array= 3 byte of array:88\n",
      "length of array= 4 byte of array:88\n",
      "length of array= 5 byte of array:120\n",
      "length of array= 6 byte of array:120\n",
      "length of array= 7 byte of array:120\n",
      "length of array= 8 byte of array:120\n",
      "length of array= 9 byte of array:184\n",
      "length of array= 10 byte of array:184\n",
      "length of array= 11 byte of array:184\n",
      "length of array= 12 byte of array:184\n",
      "length of array= 13 byte of array:184\n",
      "length of array= 14 byte of array:184\n",
      "length of array= 15 byte of array:184\n",
      "length of array= 16 byte of array:184\n"
     ]
    }
   ],
   "source": [
    "import sys\n",
    "n=17\n",
    "dynarr=[]\n",
    "for i in range(n):\n",
    "    leng=len(dynarr)\n",
    "    byte=sys.getsizeof(dynarr)\n",
    "    print(f\"length of array= {leng} byte of array:{byte}\")\n",
    "    dynarr.append(n)"
   ]
  },
  {
   "cell_type": "code",
   "execution_count": null,
   "id": "5ed69dd6-bc6e-45cf-ae80-efb058662aad",
   "metadata": {},
   "outputs": [],
   "source": []
  }
 ],
 "metadata": {
  "kernelspec": {
   "display_name": "Python 3 (ipykernel)",
   "language": "python",
   "name": "python3"
  },
  "language_info": {
   "codemirror_mode": {
    "name": "ipython",
    "version": 3
   },
   "file_extension": ".py",
   "mimetype": "text/x-python",
   "name": "python",
   "nbconvert_exporter": "python",
   "pygments_lexer": "ipython3",
   "version": "3.13.0"
  }
 },
 "nbformat": 4,
 "nbformat_minor": 5
}
