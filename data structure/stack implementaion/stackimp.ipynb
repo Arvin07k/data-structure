{
 "cells": [
  {
   "cell_type": "code",
   "execution_count": 1,
   "id": "d30b8e50-145b-4fed-933e-49d33b8e1e12",
   "metadata": {},
   "outputs": [
    {
     "data": {
      "text/plain": [
       "'\\nSTACK IMPLEMENTATION\\n'"
      ]
     },
     "execution_count": 1,
     "metadata": {},
     "output_type": "execute_result"
    }
   ],
   "source": [
    "'''\n",
    "STACK IMPLEMENTATION\n",
    "'''\n",
    "\n"
   ]
  },
  {
   "cell_type": "code",
   "execution_count": 4,
   "id": "c3970495-54b2-4fc6-9afc-94f5e5932ba7",
   "metadata": {},
   "outputs": [],
   "source": [
    "class stack():\n",
    "    def __init__(self):\n",
    "        self.elements=[]\n",
    "    def isempty(self):\n",
    "        return self.elements==[]\n",
    "    def push(self,elements):\n",
    "        self.elements.append(elements)\n",
    "    def pop(self):\n",
    "        return self.elements.pop()\n",
    "    def last(self):\n",
    "        return self.elements[-1]\n",
    "    def size(self):\n",
    "        return len(self.elements)\n",
    "        "
   ]
  },
  {
   "cell_type": "code",
   "execution_count": 6,
   "id": "141e44df-0de9-446d-95a4-d3aef3d8314c",
   "metadata": {},
   "outputs": [],
   "source": [
    "mystack=stack()"
   ]
  },
  {
   "cell_type": "code",
   "execution_count": 7,
   "id": "d3d0fd66-6d92-4fc1-b172-fa6075bba46f",
   "metadata": {},
   "outputs": [
    {
     "data": {
      "text/plain": [
       "True"
      ]
     },
     "execution_count": 7,
     "metadata": {},
     "output_type": "execute_result"
    }
   ],
   "source": [
    "mystack.isempty()"
   ]
  },
  {
   "cell_type": "code",
   "execution_count": 8,
   "id": "898322de-8753-4c5f-a6e2-b1e6005713e0",
   "metadata": {},
   "outputs": [],
   "source": [
    "mystack.push(10)"
   ]
  },
  {
   "cell_type": "code",
   "execution_count": 9,
   "id": "6374afea-461b-435e-8cf0-c5851267bae7",
   "metadata": {},
   "outputs": [],
   "source": [
    "mystack.push(20)"
   ]
  },
  {
   "cell_type": "code",
   "execution_count": 10,
   "id": "48082a53-2081-480d-8fea-dabfb59a9971",
   "metadata": {},
   "outputs": [],
   "source": [
    "mystack.push(30)"
   ]
  },
  {
   "cell_type": "code",
   "execution_count": 11,
   "id": "84b42cb1-2fa8-4f3d-960d-9c2acdf50411",
   "metadata": {},
   "outputs": [
    {
     "data": {
      "text/plain": [
       "30"
      ]
     },
     "execution_count": 11,
     "metadata": {},
     "output_type": "execute_result"
    }
   ],
   "source": [
    "mystack.last()"
   ]
  },
  {
   "cell_type": "code",
   "execution_count": 12,
   "id": "95547d27-3b7f-4f1d-b371-43eb99eafc5f",
   "metadata": {},
   "outputs": [
    {
     "data": {
      "text/plain": [
       "3"
      ]
     },
     "execution_count": 12,
     "metadata": {},
     "output_type": "execute_result"
    }
   ],
   "source": [
    "mystack.size()"
   ]
  },
  {
   "cell_type": "code",
   "execution_count": 13,
   "id": "b9a776b8-776d-49c3-ab65-59b65ed375b8",
   "metadata": {},
   "outputs": [
    {
     "data": {
      "text/plain": [
       "30"
      ]
     },
     "execution_count": 13,
     "metadata": {},
     "output_type": "execute_result"
    }
   ],
   "source": [
    "mystack.pop()"
   ]
  },
  {
   "cell_type": "code",
   "execution_count": 14,
   "id": "e17cbb95-d672-48e8-b439-eccea4553d53",
   "metadata": {},
   "outputs": [
    {
     "data": {
      "text/plain": [
       "20"
      ]
     },
     "execution_count": 14,
     "metadata": {},
     "output_type": "execute_result"
    }
   ],
   "source": [
    "mystack.pop()"
   ]
  },
  {
   "cell_type": "code",
   "execution_count": 15,
   "id": "86d122ab-7650-4a89-9519-a4e32aed74f6",
   "metadata": {},
   "outputs": [
    {
     "data": {
      "text/plain": [
       "1"
      ]
     },
     "execution_count": 15,
     "metadata": {},
     "output_type": "execute_result"
    }
   ],
   "source": [
    "mystack.size()"
   ]
  },
  {
   "cell_type": "code",
   "execution_count": 16,
   "id": "fc92b9e9-ceee-40a6-8da7-a131f3732675",
   "metadata": {},
   "outputs": [
    {
     "data": {
      "text/plain": [
       "10"
      ]
     },
     "execution_count": 16,
     "metadata": {},
     "output_type": "execute_result"
    }
   ],
   "source": [
    "mystack.pop()\n"
   ]
  },
  {
   "cell_type": "code",
   "execution_count": 17,
   "id": "34008cbb-cd67-4b60-97d0-d24e5f52b7e2",
   "metadata": {},
   "outputs": [
    {
     "data": {
      "text/plain": [
       "True"
      ]
     },
     "execution_count": 17,
     "metadata": {},
     "output_type": "execute_result"
    }
   ],
   "source": [
    "mystack.isempty()"
   ]
  },
  {
   "cell_type": "code",
   "execution_count": null,
   "id": "e5bb9e37-de7c-4e15-b9a3-ff707145a2b7",
   "metadata": {},
   "outputs": [],
   "source": []
  }
 ],
 "metadata": {
  "kernelspec": {
   "display_name": "Python 3 (ipykernel)",
   "language": "python",
   "name": "python3"
  },
  "language_info": {
   "codemirror_mode": {
    "name": "ipython",
    "version": 3
   },
   "file_extension": ".py",
   "mimetype": "text/x-python",
   "name": "python",
   "nbconvert_exporter": "python",
   "pygments_lexer": "ipython3",
   "version": "3.13.0"
  }
 },
 "nbformat": 4,
 "nbformat_minor": 5
}
