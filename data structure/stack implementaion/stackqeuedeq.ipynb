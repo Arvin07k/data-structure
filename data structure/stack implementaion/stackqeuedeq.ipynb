{
 "cells": [
  {
   "cell_type": "code",
   "execution_count": 1,
   "id": "3526683b-dd74-4872-b0ee-ee727af1a5cd",
   "metadata": {},
   "outputs": [],
   "source": [
    "list=[]\n"
   ]
  },
  {
   "cell_type": "code",
   "execution_count": 2,
   "id": "4e92114f-52ca-455d-953a-e594169ddced",
   "metadata": {},
   "outputs": [],
   "source": [
    "list.append(1)\n"
   ]
  },
  {
   "cell_type": "code",
   "execution_count": 3,
   "id": "d562e56b-ce9e-4dce-b045-c49cafd4a26f",
   "metadata": {},
   "outputs": [],
   "source": [
    "list.append(20)\n"
   ]
  },
  {
   "cell_type": "code",
   "execution_count": 4,
   "id": "c0109697-21ba-4da6-aa8f-8327b4a36bad",
   "metadata": {},
   "outputs": [],
   "source": [
    "list.append(40)\n"
   ]
  },
  {
   "cell_type": "code",
   "execution_count": 6,
   "id": "267f5702-63b7-471b-8711-4a6a056bffa9",
   "metadata": {},
   "outputs": [
    {
     "data": {
      "text/plain": [
       "[1, 20, 40]"
      ]
     },
     "execution_count": 6,
     "metadata": {},
     "output_type": "execute_result"
    }
   ],
   "source": [
    "list\n"
   ]
  },
  {
   "cell_type": "code",
   "execution_count": 7,
   "id": "8d18d32b-80a5-4662-9850-ef6d4a4e26f0",
   "metadata": {},
   "outputs": [
    {
     "data": {
      "text/plain": [
       "40"
      ]
     },
     "execution_count": 7,
     "metadata": {},
     "output_type": "execute_result"
    }
   ],
   "source": [
    "list.pop()"
   ]
  },
  {
   "cell_type": "code",
   "execution_count": 10,
   "id": "4b11a5da-8637-49a5-bda0-97157ef22b4f",
   "metadata": {},
   "outputs": [],
   "source": [
    "from queue import LifoQueue\n",
    "\n"
   ]
  },
  {
   "cell_type": "code",
   "execution_count": 12,
   "id": "01e9abb1-72a5-4a3f-a9df-5646f29d4a8c",
   "metadata": {},
   "outputs": [],
   "source": [
    "lifoq=LifoQueue()\n",
    "\n"
   ]
  },
  {
   "cell_type": "code",
   "execution_count": 16,
   "id": "1d809322-e764-41f7-aad4-0a6a3c9caebc",
   "metadata": {},
   "outputs": [],
   "source": [
    "lifoq.put(10)\n"
   ]
  },
  {
   "cell_type": "code",
   "execution_count": 17,
   "id": "938c8f2a-de46-4c06-8808-9140dcf1063b",
   "metadata": {},
   "outputs": [],
   "source": [
    "lifoq.put(20)"
   ]
  },
  {
   "cell_type": "code",
   "execution_count": 18,
   "id": "9d2d60c3-c6df-453b-84a0-5947eb8eee8a",
   "metadata": {},
   "outputs": [],
   "source": [
    "lifoq.put(30)"
   ]
  },
  {
   "cell_type": "code",
   "execution_count": 19,
   "id": "b05cc80a-89a4-403b-8cda-b03bca1da947",
   "metadata": {},
   "outputs": [
    {
     "data": {
      "text/plain": [
       "<queue.LifoQueue at 0x1c33ec539d0>"
      ]
     },
     "execution_count": 19,
     "metadata": {},
     "output_type": "execute_result"
    }
   ],
   "source": [
    "lifoq\n"
   ]
  },
  {
   "cell_type": "code",
   "execution_count": 20,
   "id": "8d2fbb1b-6641-4949-9bb3-103813b9190e",
   "metadata": {},
   "outputs": [
    {
     "data": {
      "text/plain": [
       "30"
      ]
     },
     "execution_count": 20,
     "metadata": {},
     "output_type": "execute_result"
    }
   ],
   "source": [
    "lifoq.get()\n"
   ]
  },
  {
   "cell_type": "code",
   "execution_count": 21,
   "id": "eb5deb85-d0d9-4aca-97c5-6c1d045bf1b8",
   "metadata": {},
   "outputs": [
    {
     "data": {
      "text/plain": [
       "20"
      ]
     },
     "execution_count": 21,
     "metadata": {},
     "output_type": "execute_result"
    }
   ],
   "source": [
    "lifoq.get()"
   ]
  },
  {
   "cell_type": "code",
   "execution_count": 22,
   "id": "fb8789bc-c7d3-479b-b1c4-9294eca6156c",
   "metadata": {},
   "outputs": [
    {
     "data": {
      "text/plain": [
       "10"
      ]
     },
     "execution_count": 22,
     "metadata": {},
     "output_type": "execute_result"
    }
   ],
   "source": [
    "lifoq.get()"
   ]
  },
  {
   "cell_type": "code",
   "execution_count": 24,
   "id": "f6bd32e9-49b1-4d93-ba65-524a5413c227",
   "metadata": {},
   "outputs": [],
   "source": [
    "from queue import Queue"
   ]
  },
  {
   "cell_type": "code",
   "execution_count": 25,
   "id": "03104efa-13dd-45d5-87e6-69d4248c75af",
   "metadata": {},
   "outputs": [],
   "source": [
    "myq=Queue()\n"
   ]
  },
  {
   "cell_type": "code",
   "execution_count": 26,
   "id": "7cdb2a21-b1db-4110-84a7-5412c856ff39",
   "metadata": {},
   "outputs": [],
   "source": [
    "myq.put(1)"
   ]
  },
  {
   "cell_type": "code",
   "execution_count": 27,
   "id": "dad49018-a285-4e13-b842-9242da5fb2e0",
   "metadata": {},
   "outputs": [],
   "source": [
    "myq.put(10)\n"
   ]
  },
  {
   "cell_type": "code",
   "execution_count": 28,
   "id": "dee32139-eaf7-4e42-9aab-9adee4ee3c15",
   "metadata": {},
   "outputs": [
    {
     "data": {
      "text/plain": [
       "1"
      ]
     },
     "execution_count": 28,
     "metadata": {},
     "output_type": "execute_result"
    }
   ],
   "source": [
    "myq.get()\n"
   ]
  },
  {
   "cell_type": "code",
   "execution_count": 29,
   "id": "07da1efe-a2b4-4580-a211-b48150f5bbd3",
   "metadata": {},
   "outputs": [
    {
     "data": {
      "text/plain": [
       "10"
      ]
     },
     "execution_count": 29,
     "metadata": {},
     "output_type": "execute_result"
    }
   ],
   "source": [
    "myq.get()"
   ]
  },
  {
   "cell_type": "code",
   "execution_count": 31,
   "id": "5ff98fd5-a9d5-45d3-8b39-72a3244790da",
   "metadata": {},
   "outputs": [],
   "source": [
    "from collections import deque"
   ]
  },
  {
   "cell_type": "code",
   "execution_count": 32,
   "id": "c6a6ade6-6b0c-4bc7-86a1-3da45385b14e",
   "metadata": {},
   "outputs": [],
   "source": [
    "myd=deque()"
   ]
  },
  {
   "cell_type": "code",
   "execution_count": 33,
   "id": "cbd8f17a-fb0b-4f06-ad4c-a6614d93fe61",
   "metadata": {},
   "outputs": [],
   "source": [
    "myd.append(20)"
   ]
  },
  {
   "cell_type": "code",
   "execution_count": 34,
   "id": "84b81815-7086-451d-9101-b87ded27ac52",
   "metadata": {},
   "outputs": [],
   "source": [
    "myd.append(30)\n"
   ]
  },
  {
   "cell_type": "code",
   "execution_count": 35,
   "id": "415ab52d-bc0f-488d-a035-f9bc05886384",
   "metadata": {},
   "outputs": [],
   "source": [
    "myd.appendleft(40)"
   ]
  },
  {
   "cell_type": "code",
   "execution_count": 36,
   "id": "a57f9e37-37c3-4b97-8bc1-abc2373a94e7",
   "metadata": {},
   "outputs": [
    {
     "data": {
      "text/plain": [
       "deque([40, 20, 30])"
      ]
     },
     "execution_count": 36,
     "metadata": {},
     "output_type": "execute_result"
    }
   ],
   "source": [
    "myd"
   ]
  },
  {
   "cell_type": "code",
   "execution_count": 37,
   "id": "02a14066-7733-4412-80d7-4228716093e0",
   "metadata": {},
   "outputs": [
    {
     "data": {
      "text/plain": [
       "40"
      ]
     },
     "execution_count": 37,
     "metadata": {},
     "output_type": "execute_result"
    }
   ],
   "source": [
    "myd.popleft()"
   ]
  },
  {
   "cell_type": "code",
   "execution_count": 38,
   "id": "4b23ab3f-b5f6-4325-a105-dac9fefe050a",
   "metadata": {},
   "outputs": [
    {
     "data": {
      "text/plain": [
       "30"
      ]
     },
     "execution_count": 38,
     "metadata": {},
     "output_type": "execute_result"
    }
   ],
   "source": [
    "myd.pop()"
   ]
  },
  {
   "cell_type": "code",
   "execution_count": 39,
   "id": "81927a0b-afeb-4436-91a2-8775c0584c3b",
   "metadata": {},
   "outputs": [
    {
     "data": {
      "text/plain": [
       "deque([20])"
      ]
     },
     "execution_count": 39,
     "metadata": {},
     "output_type": "execute_result"
    }
   ],
   "source": [
    "myd\n"
   ]
  },
  {
   "cell_type": "code",
   "execution_count": null,
   "id": "988af403-ac96-4d26-9a7e-da931a9a1f6e",
   "metadata": {},
   "outputs": [],
   "source": []
  }
 ],
 "metadata": {
  "kernelspec": {
   "display_name": "Python 3 (ipykernel)",
   "language": "python",
   "name": "python3"
  },
  "language_info": {
   "codemirror_mode": {
    "name": "ipython",
    "version": 3
   },
   "file_extension": ".py",
   "mimetype": "text/x-python",
   "name": "python",
   "nbconvert_exporter": "python",
   "pygments_lexer": "ipython3",
   "version": "3.13.0"
  }
 },
 "nbformat": 4,
 "nbformat_minor": 5
}
