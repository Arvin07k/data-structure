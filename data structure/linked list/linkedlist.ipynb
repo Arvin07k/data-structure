{
 "cells": [
  {
   "cell_type": "code",
   "execution_count": 3,
   "id": "9e773730-ff83-4e86-bc3b-870798bbcda8",
   "metadata": {},
   "outputs": [
    {
     "data": {
      "text/plain": [
       "'\\nNODE - LINKED LIST\\n'"
      ]
     },
     "execution_count": 3,
     "metadata": {},
     "output_type": "execute_result"
    }
   ],
   "source": [
    "'''\n",
    "NODE - LINKED LIST\n",
    "'''"
   ]
  },
  {
   "cell_type": "code",
   "execution_count": 4,
   "id": "3b4c63ec-b2bd-4c26-84d6-beb206cafd43",
   "metadata": {},
   "outputs": [],
   "source": [
    "#SINGLY LINKED LIST"
   ]
  },
  {
   "cell_type": "code",
   "execution_count": 5,
   "id": "b1d70cc1-0cb8-464e-b3cb-2bdac65cf517",
   "metadata": {},
   "outputs": [],
   "source": [
    "class node():\n",
    "    def __init__(self,value):\n",
    "        self.value=value\n",
    "        self.nextNode=None\n",
    "        "
   ]
  },
  {
   "cell_type": "code",
   "execution_count": 13,
   "id": "6578b285-fe02-4c0b-895e-3986e03e195c",
   "metadata": {},
   "outputs": [],
   "source": [
    "firstnode=node(30)"
   ]
  },
  {
   "cell_type": "code",
   "execution_count": 8,
   "id": "93b837a6-a3f9-4ef0-ba86-df6fdef1bcf7",
   "metadata": {},
   "outputs": [],
   "source": [
    "secnode=node(40)"
   ]
  },
  {
   "cell_type": "code",
   "execution_count": 9,
   "id": "f5a19fb7-cd8d-488e-9b6c-8de3de198670",
   "metadata": {},
   "outputs": [],
   "source": [
    "thrdnode=node(50)"
   ]
  },
  {
   "cell_type": "code",
   "execution_count": 14,
   "id": "26b37b55-7013-40e7-b53d-f7a3165244b7",
   "metadata": {},
   "outputs": [],
   "source": [
    "firstnode.nextNode=secnode"
   ]
  },
  {
   "cell_type": "code",
   "execution_count": 15,
   "id": "d023044d-17de-4861-875e-74d516df9840",
   "metadata": {},
   "outputs": [],
   "source": [
    "secnode.nextNode=thrdnode"
   ]
  },
  {
   "cell_type": "code",
   "execution_count": 21,
   "id": "eaad5918-77d0-4d59-880a-808289592244",
   "metadata": {},
   "outputs": [
    {
     "data": {
      "text/plain": [
       "50"
      ]
     },
     "execution_count": 21,
     "metadata": {},
     "output_type": "execute_result"
    }
   ],
   "source": [
    "firstnode.nextNode.nextNode.value"
   ]
  },
  {
   "cell_type": "code",
   "execution_count": 22,
   "id": "cf040277-7c06-469d-85c9-5fe144e935e2",
   "metadata": {},
   "outputs": [],
   "source": [
    "#DOUBLY LINKED LIST"
   ]
  },
  {
   "cell_type": "code",
   "execution_count": 23,
   "id": "d528ec23-a251-4d17-a38a-3b2f4b09daea",
   "metadata": {},
   "outputs": [],
   "source": [
    "class Doubly():\n",
    "    def __init__(self,value):\n",
    "        self.value=value\n",
    "        self.nextNode=None\n",
    "        self.prevNode=None\n",
    "    "
   ]
  },
  {
   "cell_type": "code",
   "execution_count": 24,
   "id": "9d4aad18-8169-406b-b490-1033cbe8ff6b",
   "metadata": {},
   "outputs": [],
   "source": [
    "a=Doubly(10)\n",
    "b=Doubly(20)\n",
    "c=Doubly(30)\n"
   ]
  },
  {
   "cell_type": "code",
   "execution_count": 25,
   "id": "2aa9f53b-b834-4e79-93e7-f6dbc3dc0295",
   "metadata": {},
   "outputs": [],
   "source": [
    "a.nextNode=b\n",
    "b.prevNode=a\n",
    "b.nextNode=c\n",
    "c.prevNode=b\n"
   ]
  },
  {
   "cell_type": "code",
   "execution_count": 31,
   "id": "fca0baf5-0d4c-405e-a3ae-92b3c3a6cba0",
   "metadata": {},
   "outputs": [
    {
     "data": {
      "text/plain": [
       "10"
      ]
     },
     "execution_count": 31,
     "metadata": {},
     "output_type": "execute_result"
    }
   ],
   "source": [
    "c.prevNode.prevNode.value"
   ]
  },
  {
   "cell_type": "code",
   "execution_count": null,
   "id": "1ed0967e-fc20-4785-929a-67628564c46c",
   "metadata": {},
   "outputs": [],
   "source": []
  }
 ],
 "metadata": {
  "kernelspec": {
   "display_name": "Python 3 (ipykernel)",
   "language": "python",
   "name": "python3"
  },
  "language_info": {
   "codemirror_mode": {
    "name": "ipython",
    "version": 3
   },
   "file_extension": ".py",
   "mimetype": "text/x-python",
   "name": "python",
   "nbconvert_exporter": "python",
   "pygments_lexer": "ipython3",
   "version": "3.13.0"
  }
 },
 "nbformat": 4,
 "nbformat_minor": 5
}
