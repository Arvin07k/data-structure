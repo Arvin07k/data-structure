{
 "cells": [
  {
   "cell_type": "code",
   "execution_count": 1,
   "id": "31727012-3af4-4913-93ba-a6298670728b",
   "metadata": {},
   "outputs": [],
   "source": [
    "#TREE"
   ]
  },
  {
   "cell_type": "code",
   "execution_count": 9,
   "id": "5db9b275-f3ff-4eb3-8f43-9d4d1588b019",
   "metadata": {},
   "outputs": [],
   "source": [
    "class node:\n",
    "    def __init__(self,value):\n",
    "        self.value=value\n",
    "        self.left=None\n",
    "        self.right=None\n",
    "        "
   ]
  },
  {
   "cell_type": "code",
   "execution_count": 10,
   "id": "d4a3ae83-14f9-41ac-a407-77843a4348d3",
   "metadata": {},
   "outputs": [],
   "source": [
    "class binarytree():\n",
    "    def __init__(self):\n",
    "        self.root=None\n",
    "    def insert(self,value):\n",
    "        new=node(value)\n",
    "        if self.root is None:\n",
    "            self.root=new\n",
    "            return True\n",
    "        temp=self.root\n",
    "        while True:\n",
    "            if new.value==temp.value:\n",
    "                return False\n",
    "            if new.value<temp.value:\n",
    "                if temp.left is None:\n",
    "                    temp.left=new\n",
    "                    return True\n",
    "                temp=temp.left\n",
    "            else:\n",
    "                if temp.right is None:\n",
    "                    temp.right=new\n",
    "                    return True\n",
    "                temp=temp.right\n",
    "\n",
    "    def contain(self, value):\n",
    "        temp = self.root\n",
    "        while temp:\n",
    "            if value < temp.value:\n",
    "                temp = temp.left\n",
    "            elif value > temp.value:\n",
    "                temp = temp.right\n",
    "            else:\n",
    "                return True\n",
    "        return False\n",
    "    def min(self,current):\n",
    "        while current.left:\n",
    "            current=current.left\n",
    "        return current\n",
    "    def max(self,current):\n",
    "        while current.right:\n",
    "            current=current.right\n",
    "        return \n",
    "        \n",
    "        \n",
    "\n",
    "        \n",
    "        \n",
    "            "
   ]
  },
  {
   "cell_type": "code",
   "execution_count": 13,
   "id": "a73119f7-5b40-4032-9a56-c409dede5bf1",
   "metadata": {},
   "outputs": [],
   "source": [
    "tree=binarytree()"
   ]
  },
  {
   "cell_type": "raw",
   "id": "ff6cca96-c36f-415f-a752-3c2ec393243a",
   "metadata": {},
   "source": []
  },
  {
   "cell_type": "raw",
   "id": "6bbe8bfe-7ba1-44cf-97f6-7c06f9a2f98b",
   "metadata": {},
   "source": []
  },
  {
   "cell_type": "code",
   "execution_count": 12,
   "id": "8afd365a-bb02-48c6-9ffb-b2c2511b7e12",
   "metadata": {},
   "outputs": [
    {
     "data": {
      "text/plain": [
       "True"
      ]
     },
     "execution_count": 12,
     "metadata": {},
     "output_type": "execute_result"
    }
   ],
   "source": [
    "tree.insert(5)"
   ]
  },
  {
   "cell_type": "code",
   "execution_count": 14,
   "id": "d0e1cebc-4bfc-4cd4-8b43-47fc04d27a79",
   "metadata": {},
   "outputs": [
    {
     "data": {
      "text/plain": [
       "True"
      ]
     },
     "execution_count": 14,
     "metadata": {},
     "output_type": "execute_result"
    }
   ],
   "source": [
    "tree.insert(15)"
   ]
  },
  {
   "cell_type": "raw",
   "id": "ea35f47b-7493-4c5f-9e21-2ba28649e800",
   "metadata": {},
   "source": []
  },
  {
   "cell_type": "code",
   "execution_count": 15,
   "id": "833366f8-f236-453a-bb40-8fbeb603dce4",
   "metadata": {},
   "outputs": [
    {
     "data": {
      "text/plain": [
       "True"
      ]
     },
     "execution_count": 15,
     "metadata": {},
     "output_type": "execute_result"
    }
   ],
   "source": [
    "tree.insert(20)"
   ]
  },
  {
   "cell_type": "code",
   "execution_count": 16,
   "id": "becabe78-c1ea-4060-93bc-542953793422",
   "metadata": {},
   "outputs": [
    {
     "data": {
      "text/plain": [
       "15"
      ]
     },
     "execution_count": 16,
     "metadata": {},
     "output_type": "execute_result"
    }
   ],
   "source": [
    "tree.root.value"
   ]
  },
  {
   "cell_type": "code",
   "execution_count": 17,
   "id": "b79e0061-2c75-4c8f-9d4e-5619cb77048d",
   "metadata": {},
   "outputs": [
    {
     "data": {
      "text/plain": [
       "20"
      ]
     },
     "execution_count": 17,
     "metadata": {},
     "output_type": "execute_result"
    }
   ],
   "source": [
    "tree.root.right.value"
   ]
  },
  {
   "cell_type": "code",
   "execution_count": 20,
   "id": "a2e3f7b9-f93f-4727-9dc8-cbbf7b5dad32",
   "metadata": {},
   "outputs": [
    {
     "data": {
      "text/plain": [
       "True"
      ]
     },
     "execution_count": 20,
     "metadata": {},
     "output_type": "execute_result"
    }
   ],
   "source": [
    "tree.insert(3)"
   ]
  },
  {
   "cell_type": "code",
   "execution_count": 21,
   "id": "aaa67fad-1a89-4e99-aab5-99051a37ef43",
   "metadata": {},
   "outputs": [
    {
     "data": {
      "text/plain": [
       "3"
      ]
     },
     "execution_count": 21,
     "metadata": {},
     "output_type": "execute_result"
    }
   ],
   "source": [
    "tree.root.left.value"
   ]
  },
  {
   "cell_type": "code",
   "execution_count": 22,
   "id": "8280b120-63ff-4a69-96cc-a2d7c47ee43c",
   "metadata": {},
   "outputs": [
    {
     "data": {
      "text/plain": [
       "15"
      ]
     },
     "execution_count": 22,
     "metadata": {},
     "output_type": "execute_result"
    }
   ],
   "source": [
    "tree.root.value"
   ]
  },
  {
   "cell_type": "code",
   "execution_count": 24,
   "id": "aa7bf01f-d93d-4600-96aa-1bd932ccd029",
   "metadata": {},
   "outputs": [
    {
     "data": {
      "text/plain": [
       "3"
      ]
     },
     "execution_count": 24,
     "metadata": {},
     "output_type": "execute_result"
    }
   ],
   "source": [
    "tree.root.left.value"
   ]
  },
  {
   "cell_type": "code",
   "execution_count": 25,
   "id": "0da9c4a5-58d0-461f-984f-cac37ce0eb63",
   "metadata": {},
   "outputs": [
    {
     "data": {
      "text/plain": [
       "True"
      ]
     },
     "execution_count": 25,
     "metadata": {},
     "output_type": "execute_result"
    }
   ],
   "source": [
    "tree.contain(3)"
   ]
  },
  {
   "cell_type": "code",
   "execution_count": 26,
   "id": "8d8f60ab-6560-4262-90b7-2d449ea63d7a",
   "metadata": {},
   "outputs": [
    {
     "data": {
      "text/plain": [
       "True"
      ]
     },
     "execution_count": 26,
     "metadata": {},
     "output_type": "execute_result"
    }
   ],
   "source": [
    "tree.contain(15)"
   ]
  },
  {
   "cell_type": "code",
   "execution_count": 27,
   "id": "28616d78-6198-40f4-a158-ef5b7ef23591",
   "metadata": {},
   "outputs": [
    {
     "data": {
      "text/plain": [
       "3"
      ]
     },
     "execution_count": 27,
     "metadata": {},
     "output_type": "execute_result"
    }
   ],
   "source": [
    "tree.min(tree.root).value"
   ]
  },
  {
   "cell_type": "code",
   "execution_count": 28,
   "id": "fba8c4bc-267d-45ca-859f-641d39ad1471",
   "metadata": {},
   "outputs": [
    {
     "ename": "AttributeError",
     "evalue": "'NoneType' object has no attribute 'value'",
     "output_type": "error",
     "traceback": [
      "\u001b[31m-------------------------------------------------------------------------\u001b[39m",
      "\u001b[31mAttributeError\u001b[39m                          Traceback (most recent call last)",
      "\u001b[36mCell\u001b[39m\u001b[36m \u001b[39m\u001b[32mIn[28]\u001b[39m\u001b[32m, line 1\u001b[39m\n\u001b[32m----> \u001b[39m\u001b[32m1\u001b[39m \u001b[43mtree\u001b[49m\u001b[43m.\u001b[49m\u001b[43mmax\u001b[49m\u001b[43m(\u001b[49m\u001b[43mtree\u001b[49m\u001b[43m.\u001b[49m\u001b[43mroot\u001b[49m\u001b[43m)\u001b[49m\u001b[43m.\u001b[49m\u001b[43mvalue\u001b[49m\n",
      "\u001b[31mAttributeError\u001b[39m: 'NoneType' object has no attribute 'value'"
     ]
    }
   ],
   "source": [
    "tree.max(tree.root).value"
   ]
  },
  {
   "cell_type": "code",
   "execution_count": null,
   "id": "b55a2d23-5b94-41be-8bd1-896c85bbcf6d",
   "metadata": {},
   "outputs": [],
   "source": []
  }
 ],
 "metadata": {
  "kernelspec": {
   "display_name": "Python 3 (ipykernel)",
   "language": "python",
   "name": "python3"
  },
  "language_info": {
   "codemirror_mode": {
    "name": "ipython",
    "version": 3
   },
   "file_extension": ".py",
   "mimetype": "text/x-python",
   "name": "python",
   "nbconvert_exporter": "python",
   "pygments_lexer": "ipython3",
   "version": "3.13.0"
  }
 },
 "nbformat": 4,
 "nbformat_minor": 5
}
